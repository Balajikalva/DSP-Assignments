{
 "cells": [
  {
   "cell_type": "code",
   "execution_count": 1,
   "metadata": {},
   "outputs": [],
   "source": [
    "import numpy as np\n",
    "\n",
    "import random\n",
    "\n",
    "import cmath"
   ]
  },
  {
   "cell_type": "markdown",
   "metadata": {},
   "source": [
    "## Creating Random Data"
   ]
  },
  {
   "cell_type": "code",
   "execution_count": 2,
   "metadata": {},
   "outputs": [
    {
     "data": {
      "text/plain": [
       "[33, 0, 17, 30, 28, 43, 15, 49, 39, 3, 34, 13, 23, 3, 9, 44, 8, 42, 41, 2]"
      ]
     },
     "execution_count": 2,
     "metadata": {},
     "output_type": "execute_result"
    }
   ],
   "source": [
    "lst = list()\n",
    "\n",
    "for _ in range(20):\n",
    "    \n",
    "    lst.append(random.randint(0,50))\n",
    "    \n",
    "lst"
   ]
  },
  {
   "cell_type": "markdown",
   "metadata": {},
   "source": [
    "# myDFT "
   ]
  },
  {
   "cell_type": "code",
   "execution_count": 3,
   "metadata": {},
   "outputs": [],
   "source": [
    "def myDFT(x):\n",
    "    \n",
    "    N = len(x)\n",
    "    \n",
    "    X = list()\n",
    "    \n",
    "    for k in range(N):\n",
    "        \n",
    "        val = complex(0,0)\n",
    "        \n",
    "        for n in range(N):\n",
    "            \n",
    "            c = -2*k*n*cmath.pi/N\n",
    "            \n",
    "            val += x[n] * cmath.exp(complex(0,c))\n",
    "            \n",
    "        X.append(val)\n",
    "        \n",
    "    return X\n",
    "            \n",
    "my_answer = myDFT(lst)"
   ]
  },
  {
   "cell_type": "markdown",
   "metadata": {},
   "source": [
    "# Standard DFT"
   ]
  },
  {
   "cell_type": "code",
   "execution_count": 4,
   "metadata": {},
   "outputs": [],
   "source": [
    "def std_DFT(arr):\n",
    "    \n",
    "    return np.fft.fft(arr)\n",
    "\n",
    "answer = std_DFT(lst)"
   ]
  },
  {
   "cell_type": "markdown",
   "metadata": {},
   "source": [
    "# Verifying correctness of the function myDFT"
   ]
  },
  {
   "cell_type": "code",
   "execution_count": 5,
   "metadata": {},
   "outputs": [
    {
     "name": "stdout",
     "output_type": "stream",
     "text": [
      "(476+0j)\t(476+0j)\n",
      "\n",
      "(-2.0869502272831326-42.823561281583075j)\t(-2.086950227283104-42.823561281583046j)\n",
      "\n",
      "(-55.21478174124762+80.27226304649064j)\t(-55.21478174124758+80.27226304649064j)\n",
      "\n",
      "(-36.722259812997315+21.09249481371659j)\t(-36.72225981299728+21.092494813716687j)\n",
      "\n",
      "(-19.296821066241236-4.873795443493616j)\t(-19.29682106624128-4.873795443493596j)\n",
      "\n",
      "(14.99999999999986+46.99999999999997j)\t(14.999999999999995+47j)\n",
      "\n",
      "(-3.7852182587522596-78.52619808315565j)\t(-3.7852182587524155-78.52619808315573j)\n",
      "\n",
      "(17.777987902997957-24.689242566214322j)\t(17.777987902998113-24.689242566214364j)\n",
      "\n",
      "(166.29682106624128+20.645728807067723j)\t(166.29682106624128+20.645728807067602j)\n",
      "\n",
      "(1.0312221372822044-2.773186470914555j)\t(1.0312221372822687-2.773186470914636j)\n",
      "\n",
      "(18+2.168862795763993e-14j)\t(18+0j)\n",
      "\n",
      "(1.0312221372827046+2.7731864709145992j)\t(1.0312221372822652+2.7731864709146343j)\n",
      "\n",
      "(166.29682106624156-20.645728807067307j)\t(166.29682106624128-20.645728807067602j)\n",
      "\n",
      "(17.77798790299802+24.68924256621392j)\t(17.777987902998113+24.689242566214375j)\n",
      "\n",
      "(-3.785218258752638+78.52619808315634j)\t(-3.785218258752421+78.52619808315575j)\n",
      "\n",
      "(14.999999999999762-47.00000000000033j)\t(15.000000000000002-47j)\n",
      "\n",
      "(-19.296821066241378+4.873795443493509j)\t(-19.29682106624128+4.873795443493596j)\n",
      "\n",
      "(-36.72225981299743-21.09249481371647j)\t(-36.72225981299727-21.092494813716684j)\n",
      "\n",
      "(-55.21478174124719-80.27226304649072j)\t(-55.214781741247585-80.27226304649064j)\n",
      "\n",
      "(-2.0869502272827174+42.82356128158346j)\t(-2.086950227283104+42.82356128158305j)\n",
      "\n"
     ]
    }
   ],
   "source": [
    "\n",
    "for i in range(len(lst)):\n",
    "    \n",
    "    print(\"{}\\t{}\\n\".format(my_answer[i],answer[i]))\n",
    "    "
   ]
  },
  {
   "cell_type": "markdown",
   "metadata": {},
   "source": [
    "`We can see that the output from myDFT matches the numpy standard library output for computing DFT which shows , the function the works correctly`"
   ]
  },
  {
   "cell_type": "code",
   "execution_count": null,
   "metadata": {},
   "outputs": [],
   "source": []
  }
 ],
 "metadata": {
  "kernelspec": {
   "display_name": "Python 3",
   "language": "python",
   "name": "python3"
  },
  "language_info": {
   "codemirror_mode": {
    "name": "ipython",
    "version": 3
   },
   "file_extension": ".py",
   "mimetype": "text/x-python",
   "name": "python",
   "nbconvert_exporter": "python",
   "pygments_lexer": "ipython3",
   "version": "3.7.2"
  }
 },
 "nbformat": 4,
 "nbformat_minor": 2
}
